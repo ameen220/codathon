{
 "cells": [
  {
   "cell_type": "markdown",
   "id": "810088a1",
   "metadata": {},
   "source": [
    "# 1.checking wheather it is a palindrom or not\n"
   ]
  },
  {
   "cell_type": "code",
   "execution_count": 4,
   "id": "c85ca122",
   "metadata": {},
   "outputs": [
    {
     "name": "stdout",
     "output_type": "stream",
     "text": [
      "Enter the element : refer\n",
      "it is a palindrom\n"
     ]
    }
   ],
   "source": [
    "a=input(\"Enter the element : \")\n",
    "b=a[::-1]\n",
    "if a==b:\n",
    "    print(\"it is a palindrom\")\n",
    "else:\n",
    "    print(\"it is not a palindrom\")"
   ]
  },
  {
   "cell_type": "markdown",
   "id": "290f4825",
   "metadata": {},
   "source": [
    "# 2.reverse a string"
   ]
  },
  {
   "cell_type": "code",
   "execution_count": 7,
   "id": "c8e4ffeb",
   "metadata": {},
   "outputs": [
    {
     "name": "stdout",
     "output_type": "stream",
     "text": [
      "enter the element : Dhanish ahmed college of engineering\n",
      "gnireenigne fo egelloc demha hsinahD\n"
     ]
    }
   ],
   "source": [
    "a=input(\"enter the element : \")\n",
    "b=a[::-1]\n",
    "print(b)"
   ]
  },
  {
   "cell_type": "markdown",
   "id": "b0d2ec0f",
   "metadata": {},
   "source": [
    "# 3.finding factorial"
   ]
  },
  {
   "cell_type": "code",
   "execution_count": 31,
   "id": "9a0ebe61",
   "metadata": {},
   "outputs": [
    {
     "name": "stdout",
     "output_type": "stream",
     "text": [
      "Enter the number : 5\n",
      "120\n"
     ]
    }
   ],
   "source": [
    "a=int(input(\"Enter the number : \"))\n",
    "if a==0:\n",
    "    print(\"1\")\n",
    "else:\n",
    "    b=1\n",
    "    for i in range(1,a+1):\n",
    "        b=b*i\n",
    "print(b)"
   ]
  },
  {
   "cell_type": "markdown",
   "id": "3db7ae71",
   "metadata": {},
   "source": [
    "# 4.checking prime number or not"
   ]
  },
  {
   "cell_type": "code",
   "execution_count": 32,
   "id": "1081aee8",
   "metadata": {},
   "outputs": [
    {
     "name": "stdout",
     "output_type": "stream",
     "text": [
      "Enter the number : 3\n",
      "not a prime\n"
     ]
    }
   ],
   "source": [
    "a=int(input(\"Enter the number : \"))\n",
    "if a%a==0:\n",
    "    print(\"not a prime\")\n",
    "else:\n",
    "    print(' it is prime')"
   ]
  },
  {
   "cell_type": "markdown",
   "id": "1f87d792",
   "metadata": {},
   "source": [
    "# 5.fibonacci"
   ]
  },
  {
   "cell_type": "code",
   "execution_count": 1,
   "id": "35ef4ca5",
   "metadata": {},
   "outputs": [
    {
     "name": "stdout",
     "output_type": "stream",
     "text": [
      "Enter the number : 10\n",
      "0\n",
      "1\n",
      "1\n",
      "2\n",
      "3\n",
      "5\n",
      "8\n",
      "13\n",
      "21\n",
      "34\n"
     ]
    }
   ],
   "source": [
    "a=int(input(\"Enter the number : \"))\n",
    "b=0\n",
    "c=1\n",
    "if a==0:\n",
    "    print(b)\n",
    "elif a==1:\n",
    "    print(b)\n",
    "    print(c)\n",
    "else:\n",
    "    print(b)\n",
    "    for i in range(2,a+1):\n",
    "        d=c+b\n",
    "        b=c\n",
    "        c=d\n",
    "        print(b)        "
   ]
  },
  {
   "cell_type": "markdown",
   "id": "6438718c",
   "metadata": {},
   "source": [
    "# 6.finding largest element in the list"
   ]
  },
  {
   "cell_type": "code",
   "execution_count": 50,
   "id": "889ff4fa",
   "metadata": {},
   "outputs": [
    {
     "name": "stdout",
     "output_type": "stream",
     "text": [
      "123\n",
      "10\n"
     ]
    }
   ],
   "source": [
    "a=[78,34,54,56,54,123,67,98,10,45,34,74]\n",
    "b=0\n",
    "c=a[0]\n",
    "for i in a:\n",
    "    if b<i:\n",
    "        b=i\n",
    "    elif i<c:\n",
    "        c=i\n",
    "print(b) \n",
    "print(c)\n",
    "        "
   ]
  },
  {
   "cell_type": "markdown",
   "id": "90805acc",
   "metadata": {},
   "source": [
    "# 7.second largest element in the list"
   ]
  },
  {
   "cell_type": "code",
   "execution_count": 71,
   "id": "f8f3564a",
   "metadata": {},
   "outputs": [
    {
     "name": "stdout",
     "output_type": "stream",
     "text": [
      "98\n"
     ]
    }
   ],
   "source": [
    "a=[78,34,54,56,54,123,67,98,10,45,34,74]\n",
    "a.sort()\n",
    "a.pop()\n",
    "print(a[-1])"
   ]
  },
  {
   "cell_type": "markdown",
   "id": "d0464c2f",
   "metadata": {},
   "source": [
    "# 8.sorting a list in asending order"
   ]
  },
  {
   "cell_type": "code",
   "execution_count": 72,
   "id": "6dacfd01",
   "metadata": {},
   "outputs": [
    {
     "data": {
      "text/plain": [
       "[10, 34, 34, 45, 54, 54, 56, 67, 74, 78, 98, 123]"
      ]
     },
     "execution_count": 72,
     "metadata": {},
     "output_type": "execute_result"
    }
   ],
   "source": [
    "a=[78,34,54,56,54,123,67,98,10,45,34,74]\n",
    "a.sort()\n",
    "a"
   ]
  },
  {
   "cell_type": "markdown",
   "id": "3a64b1ff",
   "metadata": {},
   "source": [
    "# 9.couting frequence element in the list"
   ]
  },
  {
   "cell_type": "code",
   "execution_count": 112,
   "id": "cf974285",
   "metadata": {},
   "outputs": [
    {
     "name": "stdout",
     "output_type": "stream",
     "text": [
      "{78: 1, 34: 2, 54: 2, 56: 1, 123: 1, 67: 1, 98: 1, 10: 1, 45: 1, 74: 1}\n"
     ]
    }
   ],
   "source": [
    "a=[78,34,54,56,54,123,67,98,10,45,34,74]\n",
    "b={}\n",
    "for i in a:\n",
    "    if i in b:\n",
    "        b[i]=b[i]+1\n",
    "    else:\n",
    "        b[i]=1\n",
    "print(b)    "
   ]
  },
  {
   "cell_type": "markdown",
   "id": "82db273a",
   "metadata": {},
   "source": [
    "# 10.removing duplicate value"
   ]
  },
  {
   "cell_type": "code",
   "execution_count": 117,
   "id": "5ea0f34c",
   "metadata": {},
   "outputs": [
    {
     "data": {
      "text/plain": [
       "{2, 3, 12, 23, 34}"
      ]
     },
     "execution_count": 117,
     "metadata": {},
     "output_type": "execute_result"
    }
   ],
   "source": [
    "a=[12,3,2,23,34,23,2,3]\n",
    "b=set(a)\n",
    "b"
   ]
  },
  {
   "cell_type": "markdown",
   "id": "b35c9f4a",
   "metadata": {},
   "source": [
    "# 11.common value in two list"
   ]
  },
  {
   "cell_type": "code",
   "execution_count": 131,
   "id": "107f7418",
   "metadata": {},
   "outputs": [
    {
     "name": "stdout",
     "output_type": "stream",
     "text": [
      "[4, 5]\n"
     ]
    }
   ],
   "source": [
    "a=[1,2,3,4,5]\n",
    "b=[4,5,6,7,8]\n",
    "c=[\n",
    "]\n",
    "for i in a:\n",
    "    if i in b:\n",
    "        c.append(i)\n",
    "print(c)"
   ]
  },
  {
   "cell_type": "markdown",
   "id": "663f6925",
   "metadata": {},
   "source": [
    "# 12.anagram check"
   ]
  },
  {
   "cell_type": "code",
   "execution_count": 145,
   "id": "dc5810ef",
   "metadata": {},
   "outputs": [
    {
     "name": "stdout",
     "output_type": "stream",
     "text": [
      "evil\n",
      "live\n",
      "it is aanagram\n"
     ]
    }
   ],
   "source": [
    "a=input(\"\")\n",
    "b=input(\"\")\n",
    "c=b.replace(' ','')\n",
    "if len(a)!=len(c):\n",
    "    print(\"it is not  anagram\")\n",
    "else:    \n",
    "    d={}\n",
    "    for i in a:\n",
    "        if i in d:\n",
    "            d[i]+=1\n",
    "        else:\n",
    "            d[i]=1\n",
    "            \n",
    "    for j in c:\n",
    "        if j in c:\n",
    "            pass\n",
    "        else:\n",
    "            print(\"it is not anogram\")\n",
    "        \n",
    "    \n",
    "    else :\n",
    "        print(\"it is aanagram\")    "
   ]
  },
  {
   "cell_type": "markdown",
   "id": "c89d49ce",
   "metadata": {},
   "source": [
    "# 13.sum all the value in the list"
   ]
  },
  {
   "cell_type": "code",
   "execution_count": 151,
   "id": "2a63add1",
   "metadata": {},
   "outputs": [
    {
     "name": "stdout",
     "output_type": "stream",
     "text": [
      "6\n"
     ]
    }
   ],
   "source": [
    "a=[1,2,3]\n",
    "b=0\n",
    "for i in a:\n",
    "    b=b+i\n",
    "print(b)    "
   ]
  },
  {
   "cell_type": "markdown",
   "id": "887e24fb",
   "metadata": {},
   "source": [
    "# 14.calculate the area of circle"
   ]
  },
  {
   "cell_type": "code",
   "execution_count": 13,
   "id": "f81d75c9",
   "metadata": {},
   "outputs": [
    {
     "name": "stdout",
     "output_type": "stream",
     "text": [
      "3\n"
     ]
    },
    {
     "data": {
      "text/plain": [
       "28.259999999999998"
      ]
     },
     "execution_count": 13,
     "metadata": {},
     "output_type": "execute_result"
    }
   ],
   "source": [
    "a=float(input(\"\"))\n",
    "b=3.14\n",
    "c=b*a*a\n",
    "c"
   ]
  },
  {
   "cell_type": "markdown",
   "id": "d9abf569",
   "metadata": {},
   "source": [
    "# 15.factorial using recursion"
   ]
  },
  {
   "cell_type": "code",
   "execution_count": 4,
   "id": "8da3c8f0",
   "metadata": {},
   "outputs": [
    {
     "name": "stdout",
     "output_type": "stream",
     "text": [
      "5\n"
     ]
    },
    {
     "data": {
      "text/plain": [
       "120"
      ]
     },
     "execution_count": 4,
     "metadata": {},
     "output_type": "execute_result"
    }
   ],
   "source": [
    "a=int(input(\"\"))\n",
    "def ameen(a):\n",
    "    if a==0:\n",
    "        return 1\n",
    "    else:\n",
    "        return a*ameen(a-1)\n",
    "        \n",
    "ameen(a)\n"
   ]
  },
  {
   "cell_type": "markdown",
   "id": "cb90fdc8",
   "metadata": {},
   "source": [
    "# 16.check if it is positive,negative or zero"
   ]
  },
  {
   "cell_type": "code",
   "execution_count": 3,
   "id": "9759a04e",
   "metadata": {},
   "outputs": [
    {
     "name": "stdout",
     "output_type": "stream",
     "text": [
      "0\n",
      "zero\n"
     ]
    }
   ],
   "source": [
    "a=int(input(\"\"))\n",
    "if a>0:\n",
    "    print(\"positive\")\n",
    "elif a==0:\n",
    "    print(\"zero\")\n",
    "else:\n",
    "    print(\"negative\")"
   ]
  },
  {
   "cell_type": "markdown",
   "id": "f71c64f8",
   "metadata": {},
   "source": [
    "# 17.determine child,adult,teenager and seniour citizen by their age"
   ]
  },
  {
   "cell_type": "code",
   "execution_count": null,
   "id": "7a11cfd4",
   "metadata": {},
   "outputs": [],
   "source": [
    "age=int(input(\"\"))\n",
    "if age>=0 and age<=12:\n",
    "    print(\"child\")\n",
    "elif age>=13 and age<=19:\n",
    "    print(\"teenager\")\n",
    "elif age>=20 and age<60:\n",
    "    print(\"adult\")\n",
    "elif age>=60:\n",
    "    print(\"seniour citizen\")\n",
    "else:\n",
    "    print(\"enter the valid age!\")"
   ]
  },
  {
   "cell_type": "markdown",
   "id": "dd94f763",
   "metadata": {},
   "source": [
    "# 18.grade output by their mark"
   ]
  },
  {
   "cell_type": "code",
   "execution_count": 12,
   "id": "1c1c7798",
   "metadata": {},
   "outputs": [
    {
     "name": "stdout",
     "output_type": "stream",
     "text": [
      "98\n",
      "A\n"
     ]
    }
   ],
   "source": [
    "mark=int(input(''))\n",
    "if mark>=90 and mark<=100:\n",
    "    print(\"A\")\n",
    "elif mark>=80 and mark<=89:\n",
    "    print(\"B\")\n",
    "elif mark>=70 and mark<=79:\n",
    "    print(\"C\")\n",
    "elif mark>=60 and mark<=69:\n",
    "    print(\"D\")\n",
    "else:\n",
    "    print(\"F\")"
   ]
  },
  {
   "cell_type": "markdown",
   "id": "c0bacaec",
   "metadata": {},
   "source": [
    "# 19.first number is divisible by second"
   ]
  },
  {
   "cell_type": "code",
   "execution_count": 14,
   "id": "60c411fe",
   "metadata": {},
   "outputs": [
    {
     "name": "stdout",
     "output_type": "stream",
     "text": [
      "3\n",
      "3\n",
      "it is divisible\n"
     ]
    }
   ],
   "source": [
    "a=int(input(''))\n",
    "b=int(input(''))\n",
    "if a%b==0:\n",
    "    print(\"it is divisible\")\n",
    "else:\n",
    "    print(\"it is not divisible\")   "
   ]
  },
  {
   "cell_type": "markdown",
   "id": "6156c099",
   "metadata": {},
   "source": [
    "# 20.leap year or not"
   ]
  },
  {
   "cell_type": "code",
   "execution_count": 13,
   "id": "54b1386b",
   "metadata": {},
   "outputs": [
    {
     "name": "stdout",
     "output_type": "stream",
     "text": [
      "2000\n",
      "leap year\n"
     ]
    }
   ],
   "source": [
    "year=int(input(''))\n",
    "if year%4==0:\n",
    "    print(\"leap year\")\n",
    "else:\n",
    "    print(\"not leap year\")"
   ]
  },
  {
   "cell_type": "markdown",
   "id": "e21d5193",
   "metadata": {},
   "source": [
    "# 21.tax deduction"
   ]
  },
  {
   "cell_type": "code",
   "execution_count": 41,
   "id": "b595c84e",
   "metadata": {},
   "outputs": [
    {
     "name": "stdout",
     "output_type": "stream",
     "text": [
      "Enter the age =30\n",
      "Enter the income =30000\n",
      "you are not eligible for tax\n"
     ]
    }
   ],
   "source": [
    "age=int(input(\"Enter the age =\"))\n",
    "income=int(input(\"Enter the income =\"))\n",
    "if income>=25000 and income<=50000:\n",
    "    if age>30:\n",
    "        print(\"you are eligible for tax\")\n",
    "        tax=income/20/100\n",
    "        print(\"you have to pay\",+ tax)\n",
    "    else:\n",
    "        print(\"you are not eligible for tax\")\n",
    "else:\n",
    "    if income>50000:\n",
    "        print(\"you are eligible for tax\")\n",
    "        tax=income/30/100\n",
    "        print(\"you have to pay\", tax)\n",
    "    else:\n",
    "        print(\"you are not eligible tax\")"
   ]
  },
  {
   "cell_type": "markdown",
   "id": "efaddb48",
   "metadata": {},
   "source": [
    "# 22.enter 3 number and display greatest one\n"
   ]
  },
  {
   "cell_type": "code",
   "execution_count": 15,
   "id": "328f543a",
   "metadata": {},
   "outputs": [
    {
     "name": "stdout",
     "output_type": "stream",
     "text": [
      "10\n",
      "56\n",
      "34\n",
      "56\n"
     ]
    }
   ],
   "source": [
    "a=int(input(''))\n",
    "b=int(input(''))\n",
    "c=int(input(''))\n",
    "if a>b and a>c:\n",
    "    print(a)\n",
    "elif b>c and b>a:\n",
    "    print(b)    \n",
    "elif c>b and c>a:\n",
    "    print(c)    "
   ]
  },
  {
   "cell_type": "markdown",
   "id": "a89f8b4e",
   "metadata": {},
   "source": [
    "# 23.palindrom chech"
   ]
  },
  {
   "cell_type": "code",
   "execution_count": 40,
   "id": "cd6d5261",
   "metadata": {},
   "outputs": [
    {
     "name": "stdout",
     "output_type": "stream",
     "text": [
      "refer\n",
      "s\n"
     ]
    }
   ],
   "source": [
    "s=input(\"\")\n",
    "m=s[::-1]\n",
    "if s==m:\n",
    "    print(\"s\")\n",
    "else:\n",
    "    print(\"N\")"
   ]
  },
  {
   "cell_type": "markdown",
   "id": "17576c0d",
   "metadata": {},
   "source": [
    "# 24.checking username and password"
   ]
  },
  {
   "cell_type": "code",
   "execution_count": 42,
   "id": "a5186fc0",
   "metadata": {},
   "outputs": [
    {
     "name": "stdout",
     "output_type": "stream",
     "text": [
      "Enter the username = Ameen\n",
      "Enter the password = Ameen7\n",
      "error!:invalid syntex, enter the valid username and password\n"
     ]
    }
   ],
   "source": [
    "username=input(\"Enter the username = \")\n",
    "password=input(\"Enter the password = \")\n",
    "if username==\"ameen\" and password==\"Ameen7\":\n",
    "    print(\"welcome\",username,\"!\")\n",
    "else:\n",
    "    print(\"error!:invalid syntex, enter the valid username and password\")"
   ]
  },
  {
   "cell_type": "markdown",
   "id": "70b6944a",
   "metadata": {},
   "source": [
    "# 25.decler mr,ms and mastet"
   ]
  },
  {
   "cell_type": "code",
   "execution_count": null,
   "id": "2a30c189",
   "metadata": {},
   "outputs": [],
   "source": [
    "username=input(\"Enter your name = \")\n",
    "age=int(input(\"Enter your age = \"))\n",
    "gender=input(\"Enter your gender = \")\n",
    "if age>=18 and gender==\"male\":\n",
    "    print(\"Mr.\",username)\n",
    "elif age>=18 and gender==\"female\" :\n",
    "    print(\"Ms.\",username)\n",
    "elif age<18 and gender==\"male\":\n",
    "    print(\"master\",username)\n",
    "else:\n",
    "    print(\"miss\",username) "
   ]
  },
  {
   "cell_type": "markdown",
   "id": "08b7db1b",
   "metadata": {},
   "source": [
    "# 26.pattern A"
   ]
  },
  {
   "cell_type": "code",
   "execution_count": 51,
   "id": "387a4034",
   "metadata": {},
   "outputs": [
    {
     "name": "stdout",
     "output_type": "stream",
     "text": [
      "   *      \n",
      "*     *   \n",
      "*  *  *   \n",
      "*     *   \n",
      "*     *   \n"
     ]
    }
   ],
   "source": [
    "for i in range(5):\n",
    "    for j in range(3):\n",
    "        if i==0 and j==0 or i==0 and j==2 or i==1 and j==1 or i==3 and j==1 or i==4 and j==1:\n",
    "            print(end='   ')\n",
    "        else:\n",
    "            print(\"*\",end=\"  \")\n",
    "    print(\" \")"
   ]
  },
  {
   "cell_type": "markdown",
   "id": "3ddaa53a",
   "metadata": {},
   "source": [
    "# 27.finding the largest value in the test."
   ]
  },
  {
   "cell_type": "code",
   "execution_count": 10,
   "id": "a314e357",
   "metadata": {},
   "outputs": [],
   "source": [
    "a='''i would to go austrelia because it is dream country \n",
    "so i am preparing for ielts examination \n",
    "if creak the examiation defentently\n",
    "i can able to go austreia\n",
    "then i will pursue my masters in austrelia \n",
    "and my father there in the coutry which i am applying for beacause of him i can able to survive easily '''\n",
    "b=a.split()\n",
    "c={}\n",
    "for i in b:\n",
    "    c[i]=len(i)\n",
    "#print(c)\n",
    "d=max(c.items()) \n",
    "m={}\n",
    "for i in c.keys():\n",
    "    #print(i)\n",
    "    if d==len(i):\n",
    "        print(i)     \n",
    "        "
   ]
  },
  {
   "cell_type": "markdown",
   "id": "dab7b8ca",
   "metadata": {},
   "source": [
    "# 28.palindrom in function"
   ]
  },
  {
   "cell_type": "code",
   "execution_count": 14,
   "id": "42e4c5e6",
   "metadata": {},
   "outputs": [
    {
     "name": "stdout",
     "output_type": "stream",
     "text": [
      "neemA\n"
     ]
    }
   ],
   "source": [
    "def pali(a):\n",
    "    b=\"\"\n",
    "    for i in a:\n",
    "        b=i+b\n",
    "    print(b)\n",
    "pali(\"Ameen\")    "
   ]
  },
  {
   "cell_type": "markdown",
   "id": "d0ee7e8b",
   "metadata": {},
   "source": [
    "# 29.Fizzbuzz"
   ]
  },
  {
   "cell_type": "code",
   "execution_count": 17,
   "id": "37af508b",
   "metadata": {},
   "outputs": [
    {
     "name": "stdout",
     "output_type": "stream",
     "text": [
      "FizzBuzz\n",
      "fizz\n",
      "Buzz\n",
      "fizz\n",
      "fizz\n",
      "Buzz\n",
      "fizz\n",
      "FizzBuzz\n",
      "fizz\n",
      "Buzz\n",
      "fizz\n",
      "fizz\n",
      "Buzz\n",
      "fizz\n",
      "FizzBuzz\n",
      "fizz\n",
      "Buzz\n",
      "fizz\n",
      "fizz\n",
      "Buzz\n",
      "fizz\n",
      "FizzBuzz\n",
      "fizz\n",
      "Buzz\n",
      "fizz\n",
      "fizz\n",
      "Buzz\n",
      "fizz\n",
      "FizzBuzz\n",
      "fizz\n",
      "Buzz\n",
      "fizz\n",
      "fizz\n",
      "Buzz\n",
      "fizz\n",
      "FizzBuzz\n",
      "fizz\n",
      "Buzz\n",
      "fizz\n",
      "fizz\n",
      "Buzz\n",
      "fizz\n",
      "FizzBuzz\n",
      "fizz\n",
      "Buzz\n",
      "fizz\n",
      "fizz\n",
      "Buzz\n"
     ]
    }
   ],
   "source": [
    "for i in range(0,101):\n",
    "    if i%3==0 and i%5==0:\n",
    "        print(\"FizzBuzz\")\n",
    "    elif i%3==0:\n",
    "        print(\"fizz\")\n",
    "    elif i%5==0:\n",
    "        print(\"Buzz\")"
   ]
  },
  {
   "cell_type": "markdown",
   "id": "906ee9c5",
   "metadata": {},
   "source": [
    "# 30.fibonecci in fucntion"
   ]
  },
  {
   "cell_type": "code",
   "execution_count": 23,
   "id": "1d6025e0",
   "metadata": {},
   "outputs": [
    {
     "name": "stdout",
     "output_type": "stream",
     "text": [
      "0\n",
      "1\n",
      "1\n",
      "2\n",
      "3\n",
      "5\n",
      "8\n",
      "13\n"
     ]
    }
   ],
   "source": [
    "def fibo(a):\n",
    "    b=0\n",
    "    c=1\n",
    "    if a==0:\n",
    "        print(b)\n",
    "    else:\n",
    "        print(b)\n",
    "        for i in range(1,a+1):\n",
    "            d=c+b\n",
    "            c=b\n",
    "            b=d\n",
    "            print(d)\n",
    "fibo(7)            "
   ]
  },
  {
   "cell_type": "markdown",
   "id": "946a5683",
   "metadata": {},
   "source": [
    "# 31.anagram in fuction"
   ]
  },
  {
   "cell_type": "code",
   "execution_count": 25,
   "id": "0c1686c1",
   "metadata": {},
   "outputs": [
    {
     "name": "stdout",
     "output_type": "stream",
     "text": [
      "Anagram\n"
     ]
    }
   ],
   "source": [
    "def ana(a,b):\n",
    "    if len(a)!=len(b):\n",
    "        print('not anagram')\n",
    "    else:\n",
    "        d={}\n",
    "        for i in b:\n",
    "            if i in d:\n",
    "                d[i]+=1\n",
    "            else:\n",
    "                d[i]=1\n",
    "        for i in b:\n",
    "            if i in d:\n",
    "                pass\n",
    "            else:\n",
    "                print(\"not Anagram\")\n",
    "        else:\n",
    "            print(\"Anagram\")\n",
    "            \n",
    "ana(\"evil\",\"live\")    "
   ]
  },
  {
   "cell_type": "markdown",
   "id": "601e2bb8",
   "metadata": {},
   "source": [
    "# 32.prime number in fuction"
   ]
  },
  {
   "cell_type": "code",
   "execution_count": 1,
   "id": "777d29c5",
   "metadata": {},
   "outputs": [
    {
     "name": "stdout",
     "output_type": "stream",
     "text": [
      "not a prime\n",
      "not a prime\n",
      "not a prime\n",
      "not a prime\n",
      "not a prime\n",
      "not a prime\n",
      "not a prime\n",
      "not a prime\n",
      "not a prime\n",
      "prime\n"
     ]
    }
   ],
   "source": [
    "def prime(a):\n",
    "    for i in range(1,a+1):\n",
    "        if i%a==0:\n",
    "            print(\"prime\")\n",
    "        else:\n",
    "            print(\"not a prime\")\n",
    "prime(10)            "
   ]
  },
  {
   "cell_type": "markdown",
   "id": "81c2c754",
   "metadata": {},
   "source": [
    "# 33.base and exponent in recursion"
   ]
  },
  {
   "cell_type": "code",
   "execution_count": 33,
   "id": "0f326e1c",
   "metadata": {},
   "outputs": [
    {
     "data": {
      "text/plain": [
       "1000"
      ]
     },
     "execution_count": 33,
     "metadata": {},
     "output_type": "execute_result"
    }
   ],
   "source": [
    "def rec1(b,n):\n",
    "    if n==1:\n",
    "        return b\n",
    "    else:\n",
    "        return b*rec1(b,n-1)\n",
    "rec1(10,3)    "
   ]
  },
  {
   "cell_type": "markdown",
   "id": "eba4e519",
   "metadata": {},
   "source": [
    "# 34.sum all the element in the array using recurtion"
   ]
  },
  {
   "cell_type": "code",
   "execution_count": 1,
   "id": "dcd4ad49",
   "metadata": {},
   "outputs": [
    {
     "data": {
      "text/plain": [
       "20"
      ]
     },
     "execution_count": 1,
     "metadata": {},
     "output_type": "execute_result"
    }
   ],
   "source": [
    "def rec2(a):\n",
    "    if len(a)==1:\n",
    "        return a[0]\n",
    "    else:\n",
    "        return a[0]+rec2(a[1:])\n",
    "a=[1,2,3,4,5,5]    \n",
    "rec2(a)    "
   ]
  },
  {
   "cell_type": "markdown",
   "id": "0d28b073",
   "metadata": {},
   "source": [
    "# 35.palindrom in recursion function"
   ]
  },
  {
   "cell_type": "code",
   "execution_count": null,
   "id": "8f613d36",
   "metadata": {},
   "outputs": [],
   "source": [
    "def rec3(a):\n",
    "    b=\"\"\n",
    "    if len(a)==1:\n",
    "        return a[0]\n",
    "    else:\n",
    "        return b+rec3(a[::-1])\n",
    "rec3(\"ameen\")"
   ]
  },
  {
   "cell_type": "markdown",
   "id": "2ddf0423",
   "metadata": {},
   "source": [
    "# 36.find the longest word in text file"
   ]
  },
  {
   "cell_type": "code",
   "execution_count": 3,
   "id": "6bd6adbb",
   "metadata": {},
   "outputs": [
    {
     "name": "stdout",
     "output_type": "stream",
     "text": [
      "{'FizzBuzz': 8, 'Write': 5, 'a': 1, 'Python': 6, 'program': 7, 'that': 4, 'prints': 6, 'the': 3, 'numbers': 7, 'from': 4, '1': 1, 'to': 2, '100.': 4, 'For': 3, 'multiples': 9, 'of': 2, 'three,': 6, 'print': 5, '\"Fizz\"': 6, 'instead': 7, 'number,': 7, 'and': 3, 'for': 3, 'five,': 5, '\"Buzz\".': 7, 'are': 3, 'both': 4, 'three': 5, '\"FizzBuzz': 9}\n",
      "9\n"
     ]
    }
   ],
   "source": [
    "a='''\n",
    "FizzBuzz\n",
    "Write a Python program that prints the numbers from 1 to 100. \n",
    "For multiples of three, print \"Fizz\" instead of the number, \n",
    "and for multiples of five, print \"Buzz\". \n",
    "For numbers that are multiples of both three and five, print \"FizzBuzz\n",
    "'''\n",
    "\n",
    "b=a.split()\n",
    "b\n",
    "d={}\n",
    "for i in b:\n",
    "    d[i]=len(i)\n",
    "print(d)\n",
    "f=max(d.values())\n",
    "print(f)\n",
    "for j in d:  \n",
    "    if d.values()==f:\n",
    "        print(j)"
   ]
  },
  {
   "cell_type": "markdown",
   "id": "04a8691b",
   "metadata": {},
   "source": [
    "# 37.counting occurrences of each word in the text file"
   ]
  },
  {
   "cell_type": "markdown",
   "id": "d25aba4d",
   "metadata": {},
   "source": [
    "get the text file and split it by ',' and creat empty dict and store the words like key values pair and add the all occurrences"
   ]
  },
  {
   "cell_type": "code",
   "execution_count": 1,
   "id": "2c2a25f4",
   "metadata": {},
   "outputs": [
    {
     "name": "stdout",
     "output_type": "stream",
     "text": [
      "{'': 1, 'Notebook': 1, 'Untitled': 2, 'Folder': 3, '1/Untitled1.ipynb': 1, 'is': 2, 'not': 2, 'trusted\\nKernel': 1, 'started:': 1, '995119e2-6a90-400a-92c2-7686108efac6,': 1, 'name:': 2, 'python3\\nNotebook': 1, '1/Untitled.ipynb': 2, 'trusted\\n6b66ff5e-4d37-4c3b-af20-61f72df625a2,': 1, 'python3\\n': 1, 'KernelRestarter:': 1, 'restarting': 1, 'kernel': 1, '(1/5),': 1, 'keep': 1, 'random': 1, 'ports\\nWARNING:root:kernel': 1, '6b66ff5e-4d37-4c3b-af20-61f72df625a2': 1, 'restarted\\n': 1, 'Saving': 1, 'file': 1, 'at': 1, '/Untitled': 1}\n"
     ]
    }
   ],
   "source": [
    "a=''' Notebook Untitled Folder 1/Untitled1.ipynb is not trusted\n",
    "Kernel started: 995119e2-6a90-400a-92c2-7686108efac6, name: python3\n",
    "Notebook Untitled Folder 1/Untitled.ipynb is not trusted\n",
    "6b66ff5e-4d37-4c3b-af20-61f72df625a2, name: python3\n",
    " KernelRestarter: restarting kernel (1/5), keep random ports\n",
    "WARNING:root:kernel 6b66ff5e-4d37-4c3b-af20-61f72df625a2 restarted\n",
    " Saving file at /Untitled Folder 1/Untitled.ipynb'''\n",
    "c=a.split(' ')\n",
    "b={}\n",
    "for i in c:\n",
    "    if i in b:\n",
    "        b[i]=b[i]+1\n",
    "    else:\n",
    "        b[i]=1\n",
    "print(b)  "
   ]
  }
 ],
 "metadata": {
  "kernelspec": {
   "display_name": "Python 3 (ipykernel)",
   "language": "python",
   "name": "python3"
  },
  "language_info": {
   "codemirror_mode": {
    "name": "ipython",
    "version": 3
   },
   "file_extension": ".py",
   "mimetype": "text/x-python",
   "name": "python",
   "nbconvert_exporter": "python",
   "pygments_lexer": "ipython3",
   "version": "3.10.9"
  }
 },
 "nbformat": 4,
 "nbformat_minor": 5
}
